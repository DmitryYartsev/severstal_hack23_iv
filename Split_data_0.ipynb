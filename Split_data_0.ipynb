{
 "cells": [
  {
   "cell_type": "code",
   "execution_count": 2,
   "id": "8327ad99",
   "metadata": {},
   "outputs": [],
   "source": [
    "import pandas as pd\n",
    "import numpy as np\n",
    "import matplotlib.pyplot as plt\n",
    "from tqdm import tqdm\n",
    "import os\n",
    "\n",
    "if not 'dataset_train_splited' in os.listdir():\n",
    "    os.mkdir('dataset_train_splited')\n",
    "\n",
    "\n",
    "pd.set_option('display.max_columns', 100)\n",
    "pd.set_option('display.max_rows', 100)"
   ]
  },
  {
   "cell_type": "code",
   "execution_count": 4,
   "id": "dbf18076",
   "metadata": {},
   "outputs": [],
   "source": [
    "df_x = pd.read_parquet('Датасеты/X_train.parquet')\n",
    "df_y = pd.read_parquet('Датасеты/y_train.parquet')\n",
    "df_test = pd.read_parquet('Датасеты/X_test.parquet')"
   ]
  },
  {
   "cell_type": "code",
   "execution_count": 5,
   "id": "fa5cf0e3",
   "metadata": {},
   "outputs": [
    {
     "data": {
      "text/plain": [
       "(9335034, 175)"
      ]
     },
     "execution_count": 5,
     "metadata": {},
     "output_type": "execute_result"
    }
   ],
   "source": [
    "df_y.shape"
   ]
  },
  {
   "cell_type": "code",
   "execution_count": null,
   "id": "06c4cc37",
   "metadata": {},
   "outputs": [],
   "source": [
    "df_x.rename(columns = {'ЭКСГАУСТЕР 4. ТОК РОТОРА2':'ЭКСГАУСТЕР 4. ТОК РОТОРА 2'}, inplace=True)\n",
    "df_test.rename(columns = {'ЭКСГАУСТЕР 4. ТОК РОТОРА2':'ЭКСГАУСТЕР 4. ТОК РОТОРА 2'}, inplace=True)\n"
   ]
  },
  {
   "cell_type": "code",
   "execution_count": null,
   "id": "849c69d3",
   "metadata": {},
   "outputs": [],
   "source": [
    "x_cols = pd.DataFrame(df_x.columns, columns = ['col'])\n",
    "x_cols['num'] = x_cols['col'].str.extract('ЭКСГАУСТЕР (\\d) *').astype(int)\n",
    "n_machines = x_cols['num'].unique()"
   ]
  },
  {
   "cell_type": "code",
   "execution_count": null,
   "id": "8651fc0f",
   "metadata": {},
   "outputs": [],
   "source": [
    "y_cols = pd.DataFrame(df_y.columns, columns = ['col'])\n",
    "y_cols['num'] = y_cols['col'].str.extract('Y_ЭКСГАУСТЕР А/М №(\\d)*').astype(int)\n"
   ]
  },
  {
   "cell_type": "code",
   "execution_count": null,
   "id": "61e42b51",
   "metadata": {},
   "outputs": [],
   "source": [
    "for nm in tqdm(n_machines):\n",
    "    df_x[x_cols[x_cols['num']==nm]['col']].to_parquet(f'dataset_train_splited/x_train_{nm}.parquet')\n",
    "    df_y[y_cols[y_cols['num']==nm]['col']].to_parquet(f'dataset_train_splited/y_train_{nm}.parquet')\n",
    "    df_test[x_cols[x_cols['num']==nm]['col']].to_parquet(f'dataset_train_splited/x_test_{nm}.parquet')\n",
    "    print(nm)"
   ]
  }
 ],
 "metadata": {
  "kernelspec": {
   "display_name": "Python 3 (ipykernel)",
   "language": "python",
   "name": "python3"
  },
  "language_info": {
   "codemirror_mode": {
    "name": "ipython",
    "version": 3
   },
   "file_extension": ".py",
   "mimetype": "text/x-python",
   "name": "python",
   "nbconvert_exporter": "python",
   "pygments_lexer": "ipython3",
   "version": "3.10.10"
  }
 },
 "nbformat": 4,
 "nbformat_minor": 5
}
